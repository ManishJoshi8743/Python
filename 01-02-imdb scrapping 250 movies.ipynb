{
 "cells": [
  {
   "cell_type": "code",
   "execution_count": 1,
   "id": "5acc43df",
   "metadata": {},
   "outputs": [],
   "source": [
    "import time\n",
    "\n",
    "from bs4 import BeautifulSoup\n",
    "\n",
    "from selenium import webdriver # initializes the browser\n",
    "from selenium.webdriver.common.by import By # searches for tags\n",
    "from selenium.webdriver.common.keys import Keys # clicks\n",
    "from selenium.webdriver.support.wait import WebDriverWait # wait for element to load\n",
    "from selenium.webdriver.support import expected_conditions as EC # wait uptil condition"
   ]
  },
  {
   "cell_type": "code",
   "execution_count": 2,
   "id": "a5e446ee",
   "metadata": {},
   "outputs": [],
   "source": [
    "url = 'https://www.google.com/'\n",
    "\n",
    "text_to_search = 'TGC southex'\n",
    "\n",
    "driver = webdriver.Chrome()\n",
    "\n",
    "driver.get(url)\n",
    "\n",
    "\n",
    "# search_box = driver.find_element(By.CLASS_NAME,'gLFyf')\n",
    "\n",
    "# search_box.send_keys(text_to_search)\n",
    "# search_box.send_keys(Keys.RETURN)\n",
    "\n",
    "# # time.sleep(5)\n",
    "\n",
    "# # clicking on courses link\n",
    "# driver.find_element(By.XPATH,'//*[@id=\"rso\"]/div[1]/div/div/div/table/tbody/tr[1]/td/div/div/div/div/h3/a').click()\n",
    "\n",
    "# time.sleep(5)\n",
    "# driver.find_element(By.XPATH,'//*[@id=\"content\"]/div/div/div/div/div/div/div/div[2]/div[1]/div/ul/li[17]/a').click()"
   ]
  },
  {
   "cell_type": "code",
   "execution_count": 3,
   "id": "19c8f8ce",
   "metadata": {},
   "outputs": [],
   "source": [
    "url = 'https://www.tgcindia.com/course/python-training-course-in-delhi/'\n",
    "\n",
    "driver = webdriver.Chrome()\n",
    "\n",
    "driver.get(url)\n",
    "\n",
    "\n",
    "cards = driver.find_element(By.CLASS_NAME,'cards-list')\n",
    "\n",
    "print(cards.text)"
   ]
  },
  {
   "cell_type": "markdown",
   "id": "5a6950d6",
   "metadata": {},
   "source": [
    "# Scrapping IMDB"
   ]
  },
  {
   "cell_type": "code",
   "execution_count": 4,
   "id": "c1983cfc",
   "metadata": {},
   "outputs": [
    {
     "name": "stdout",
     "output_type": "stream",
     "text": [
      "250\n"
     ]
    }
   ],
   "source": [
    "url = 'https://www.imdb.com/chart/top/?ref_=nv_mv_250'\n",
    "\n",
    "driver = webdriver.Chrome()\n",
    "\n",
    "driver.get(url)\n",
    "time.sleep(5)\n",
    "all_movies = driver.find_elements(By.CLASS_NAME,'ipc-metadata-list-summary-item__c')\n",
    "print(len(all_movies))"
   ]
  },
  {
   "cell_type": "code",
   "execution_count": 5,
   "id": "cb656be8",
   "metadata": {},
   "outputs": [],
   "source": [
    "movie = all_movies[0].text"
   ]
  },
  {
   "cell_type": "code",
   "execution_count": 6,
   "id": "1c73debe",
   "metadata": {},
   "outputs": [
    {
     "name": "stdout",
     "output_type": "stream",
     "text": [
      "1. The Shawshank Redemption\n",
      "1994\n",
      "2h 22m\n",
      "R\n",
      "9.3\n",
      " (2.9M)\n",
      "Rate\n"
     ]
    }
   ],
   "source": [
    "print(movie)"
   ]
  },
  {
   "cell_type": "code",
   "execution_count": 7,
   "id": "bc51e288",
   "metadata": {},
   "outputs": [],
   "source": [
    "name,year,runtime,certificate,rating,raters,*_ = movie.splitlines()"
   ]
  },
  {
   "cell_type": "code",
   "execution_count": 8,
   "id": "9e0225c0",
   "metadata": {},
   "outputs": [],
   "source": [
    "imdbmovies = {'name':[],\n",
    "             'year':[],\n",
    "             'runtime':[],\n",
    "             'certificate':[],\n",
    "             'rating':[],\n",
    "             'raters':[]}"
   ]
  },
  {
   "cell_type": "code",
   "execution_count": 9,
   "id": "0f126f09",
   "metadata": {},
   "outputs": [],
   "source": [
    "for movie_element in all_movies:\n",
    "    movie = movie_element.text\n",
    "    name,year,runtime,certification,rating,raters,*_ = movie.splitlines()\n",
    "    \n",
    "    imdbmovies['name'].append(name)\n",
    "    imdbmovies['year'].append(year)\n",
    "    imdbmovies['runtime'].append(runtime)\n",
    "    imdbmovies['certificate'].append(certificate)\n",
    "    imdbmovies['rating'].append(rating)\n",
    "    imdbmovies['raters'].append(raters)"
   ]
  },
  {
   "cell_type": "code",
   "execution_count": 10,
   "id": "8fb443be",
   "metadata": {
    "collapsed": true
   },
   "outputs": [
    {
     "name": "stdout",
     "output_type": "stream",
     "text": [
      "{'name': ['1. The Shawshank Redemption', '2. The Godfather', '3. The Dark Knight', '4. The Godfather Part II', '5. 12 Angry Men', \"6. Schindler's List\", '7. The Lord of the Rings: The Return of the King', '8. Pulp Fiction', '9. The Lord of the Rings: The Fellowship of the Ring', '10. The Good, the Bad and the Ugly', '11. Forrest Gump', '12. Fight Club', '13. The Lord of the Rings: The Two Towers', '14. Inception', '15. Star Wars: Episode V - The Empire Strikes Back', '16. The Matrix', '17. Goodfellas', \"18. One Flew Over the Cuckoo's Nest\", '19. Se7en', \"20. It's a Wonderful Life\", '21. Interstellar', '22. Seven Samurai', '23. The Silence of the Lambs', '24. Saving Private Ryan', '25. City of God', '26. Life Is Beautiful', '27. The Green Mile', '28. Terminator 2: Judgment Day', '29. Star Wars: Episode IV - A New Hope', '30. Back to the Future', '31. Spider-Man: Across the Spider-Verse', '32. Spirited Away', '33. The Pianist', '34. Parasite', '35. Psycho', '36. Gladiator', '37. The Lion King', '38. Léon: The Professional', '39. The Departed', '40. American History X', '41. Whiplash', '42. The Prestige', '43. Grave of the Fireflies', '44. Harakiri', '45. The Usual Suspects', '46. Casablanca', '47. The Intouchables', '48. Modern Times', '49. Cinema Paradiso', '50. 12th Fail', '51. Rear Window', '52. Once Upon a Time in the West', '53. Alien', '54. City Lights', '55. Apocalypse Now', '56. Django Unchained', '57. Memento', '58. WALL·E', '59. Raiders of the Lost Ark', '60. The Lives of Others', '61. Sunset Blvd.', '62. Paths of Glory', '63. Avengers: Infinity War', '64. Spider-Man: Into the Spider-Verse', '65. The Shining', '66. Witness for the Prosecution', '67. The Great Dictator', '68. Aliens', '69. Inglourious Basterds', '70. The Dark Knight Rises', '71. American Beauty', '72. Dr. Strangelove or: How I Learned to Stop Worrying and Love the Bomb', '73. Oldboy', '74. Coco', '75. Amadeus', '76. Toy Story', '77. The Boat', '78. Braveheart', '79. Avengers: Endgame', '80. Joker', '81. Oppenheimer', '82. Princess Mononoke', '83. Good Will Hunting', '84. Your Name.', '85. Once Upon a Time in America', '86. 3 Idiots', '87. High and Low', \"88. Singin' in the Rain\", '89. Capernaum', '90. Requiem for a Dream', '91. Come and See', '92. Toy Story 3', '93. Star Wars: Episode VI - Return of the Jedi', '94. Eternal Sunshine of the Spotless Mind', '95. The Hunt', '96. 2001: A Space Odyssey', '97. Poor Things', '98. Reservoir Dogs', '99. Ikiru', '100. Lawrence of Arabia', '101. The Apartment', '102. Citizen Kane', '103. North by Northwest', '104. M', '105. Vertigo', '106. Double Indemnity', '107. Scarface', '108. Amélie', '109. Incendies', '110. Full Metal Jacket', '111. A Clockwork Orange', '112. Heat', '113. Up', '114. To Kill a Mockingbird', '115. The Sting', '116. A Separation', '117. Indiana Jones and the Last Crusade', '118. Die Hard', '119. Hamilton', '120. Metropolis', '121. Like Stars on Earth', '122. Snatch', '123. Bicycle Thieves', '124. L.A. Confidential', '125. 1917', '126. Taxi Driver', '127. Downfall', '128. Dangal', '129. For a Few Dollars More', '130. Batman Begins', '131. Some Like It Hot', '132. The Wolf of Wall Street', '133. The Kid', '134. Green Book', '135. The Father', '136. Top Gun: Maverick', '137. All About Eve', '138. Judgment at Nuremberg', '139. The Truman Show', '140. There Will Be Blood', '141. Shutter Island', '142. Casino', '143. Ran', '144. Jurassic Park', '145. The Sixth Sense', \"146. Pan's Labyrinth\", '147. Unforgiven', '148. A Beautiful Mind', '149. No Country for Old Men', '150. The Treasure of the Sierra Madre', '151. Yojimbo', '152. The Thing', '153. Kill Bill: Vol. 1', '154. Monty Python and the Holy Grail', '155. The Great Escape', '156. Finding Nemo', '157. Rashomon', '158. The Elephant Man', \"159. Howl's Moving Castle\", '160. Chinatown', '161. Prisoners', '162. Dial M for Murder', '163. Gone with the Wind', '164. V for Vendetta', '165. Lock, Stock and Two Smoking Barrels', '166. The Secret in Their Eyes', '167. Raging Bull', '168. Inside Out', '169. Three Billboards Outside Ebbing, Missouri', '170. Trainspotting', '171. The Bridge on the River Kwai', '172. Spider-Man: No Way Home', '173. Fargo', '174. Godzilla Minus One', '175. Warrior', '176. Klaus', '177. Catch Me If You Can', '178. Gran Torino', '179. My Neighbor Totoro', '180. Million Dollar Baby', '181. Harry Potter and the Deathly Hallows: Part 2', '182. Children of Heaven', '183. 12 Years a Slave', '184. Blade Runner', '185. Before Sunrise', '186. The Grand Budapest Hotel', '187. Ben-Hur', '188. Barry Lyndon', '189. Gone Girl', '190. The Gold Rush', '191. Hacksaw Ridge', '192. In the Name of the Father', '193. Memories of Murder', '194. On the Waterfront', '195. The General', '196. The Deer Hunter', '197. Dead Poets Society', '198. Wild Tales', '199. Mad Max: Fury Road', '200. Wild Strawberries', '201. Sherlock Jr.', '202. The Third Man', '203. The Wages of Fear', '204. Monsters, Inc.', '205. Jaws', '206. How to Train Your Dragon', '207. Mr. Smith Goes to Washington', '208. Mary and Max', '209. Ford v Ferrari', '210. Ratatouille', '211. The Seventh Seal', '212. Room', '213. The Big Lebowski', '214. Tokyo Story', '215. Rocky', '216. Hotel Rwanda', '217. Logan', '218. Spotlight', '219. Platoon', '220. The Terminator', '221. The Passion of Joan of Arc', '222. Jai Bhim', '223. Before Sunset', '224. The Best Years of Our Lives', '225. La haine', '226. Rush', '227. The Exorcist', '228. Network', '229. Pirates of the Caribbean: The Curse of the Black Pearl', '230. Stand by Me', '231. The Wizard of Oz', '232. The Incredibles', '233. Into the Wild', \"234. Hachi: A Dog's Tale\", '235. The Handmaiden', '236. To Be or Not to Be', '237. My Father and My Son', '238. Groundhog Day', '239. The Grapes of Wrath', '240. The Battle of Algiers', '241. The Sound of Music', '242. Amores Perros', '243. Rebecca', '244. Cool Hand Luke', '245. The Iron Giant', '246. The Help', '247. It Happened One Night', '248. The 400 Blows', '249. Drishyam', '250. Aladdin'], 'year': ['1994', '1972', '2008', '1974', '1957', '1993', '2003', '1994', '2001', '1966', '1994', '1999', '2002', '2010', '1980', '1999', '1990', '1975', '1995', '1946', '2014', '1954', '1991', '1998', '2002', '1997', '1999', '1991', '1977', '1985', '2023', '2001', '2002', '2019', '1960', '2000', '1994', '1994', '2006', '1998', '2014', '2006', '1988', '1962', '1995', '1942', '2011', '1936', '1988', '2023', '1954', '1968', '1979', '1931', '1979', '2012', '2000', '2008', '1981', '2006', '1950', '1957', '2018', '2018', '1980', '1957', '1940', '1986', '2009', '2012', '1999', '1964', '2003', '2017', '1984', '1995', '1981', '1995', '2019', '2019', '2023', '1997', '1997', '2016', '1984', '2009', '1963', '1952', '2018', '2000', '1985', '2010', '1983', '2004', '2012', '1968', '2023', '1992', '1952', '1962', '1960', '1941', '1959', '1931', '1958', '1944', '1983', '2001', '2010', '1987', '1971', '1995', '2009', '1962', '1973', '2011', '1989', '1988', '2020', '1927', '2007', '2000', '1948', '1997', '2019', '1976', '2004', '2016', '1965', '2005', '1959', '2013', '1921', '2018', '2020', '2022', '1950', '1961', '1998', '2007', '2010', '1995', '1985', '1993', '1999', '2006', '1992', '2001', '2007', '1948', '1961', '1982', '2003', '1975', '1963', '2003', '1950', '1980', '2004', '1974', '2013', '1954', '1939', '2005', '1998', '2009', '1980', '2015', '2017', '1996', '1957', '2021', '1996', '2023', '2011', '2019', '2002', '2008', '1988', '2004', '2011', '1997', '2013', '1982', '1995', '2014', '1959', '1975', '2014', '1925', '2016', '1993', '2003', '1954', '1926', '1978', '1989', '2014', '2015', '1957', '1924', '1949', '1953', '2001', '1975', '2010', '1939', '2009', '2019', '2007', '1957', '2015', '1998', '1953', '1976', '2004', '2017', '2015', '1986', '1984', '1928', '2021', '2004', '1946', '1995', '2013', '1973', '1976', '2003', '1986', '1939', '2004', '2007', '2009', '2016', '1942', '2005', '1993', '1940', '1966', '1965', '2000', '1940', '1967', '1999', '2011', '1934', '1959', '2015', '1992'], 'runtime': ['2h 22m', '2h 55m', '2h 32m', '3h 22m', '1h 36m', '3h 15m', '3h 21m', '2h 34m', '2h 58m', '2h 58m', '2h 22m', '2h 19m', '2h 59m', '2h 28m', '2h 4m', '2h 16m', '2h 25m', '2h 13m', '2h 7m', '2h 10m', '2h 49m', '3h 27m', '1h 58m', '2h 49m', '2h 10m', '1h 56m', '3h 9m', '2h 17m', '2h 1m', '1h 56m', '2h 20m', '2h 5m', '2h 30m', '2h 12m', '1h 49m', '2h 35m', '1h 28m', '1h 50m', '2h 31m', '1h 59m', '1h 46m', '2h 10m', '1h 29m', '2h 13m', '1h 46m', '1h 42m', '1h 52m', '1h 27m', '2h 35m', '2h 27m', '1h 52m', '2h 46m', '1h 57m', '1h 27m', '2h 27m', '2h 45m', '1h 53m', '1h 38m', '1h 55m', '2h 17m', '1h 50m', '1h 28m', '2h 29m', '1h 57m', '2h 26m', '1h 56m', '2h 5m', '2h 17m', '2h 33m', '2h 44m', '2h 2m', '1h 35m', '2h', '1h 45m', '2h 40m', '1h 21m', '2h 29m', '2h 58m', '3h 1m', '2h 2m', '3h', '2h 14m', '2h 6m', '1h 46m', '3h 49m', '2h 50m', '2h 23m', '1h 43m', '2h 6m', '1h 42m', '2h 22m', '1h 43m', '2h 11m', '1h 48m', '1h 55m', '2h 29m', '2h 21m', '1h 39m', '2h 23m', '3h 38m', '2h 5m', '1h 59m', '2h 16m', '1h 39m', '2h 8m', '1h 47m', '2h 50m', '2h 2m', '2h 11m', '1h 56m', '2h 16m', '2h 50m', '1h 36m', '2h 9m', '2h 9m', '2h 3m', '2h 7m', '2h 12m', '2h 40m', '2h 33m', '2h 42m', '1h 42m', '1h 29m', '2h 18m', '1h 59m', '1h 54m', '2h 36m', '2h 41m', '2h 12m', '2h 20m', '2h 1m', '3h', '1h 8m', '2h 10m', '1h 37m', '2h 10m', '2h 18m', '2h 59m', '1h 43m', '2h 38m', '2h 18m', '2h 58m', '2h 40m', '2h 7m', '1h 47m', '1h 58m', '2h 10m', '2h 15m', '2h 2m', '2h 6m', '1h 50m', '1h 49m', '1h 51m', '1h 31m', '2h 52m', '1h 40m', '1h 28m', '2h 4m', '1h 59m', '2h 10m', '2h 33m', '1h 45m', '3h 58m', '2h 12m', '1h 47m', '2h 9m', '2h 9m', '1h 35m', '1h 55m', '1h 33m', '2h 41m', '2h 28m', '1h 38m', '2h 4m', '2h 20m', '1h 36m', '2h 21m', '1h 56m', '1h 26m', '2h 12m', '2h 10m', '1h 29m', '2h 14m', '1h 57m', '1h 41m', '1h 39m', '3h 32m', '3h 5m', '2h 29m', '1h 35m', '2h 19m', '2h 13m', '2h 12m', '1h 48m', '1h 18m', '3h 3m', '2h 8m', '2h 2m', '2h', '1h 31m', '45m', '1h 33m', '2h 11m', '1h 32m', '2h 4m', '1h 38m', '2h 9m', '1h 32m', '2h 32m', '1h 51m', '1h 36m', '1h 58m', '1h 57m', '2h 16m', '2h', '2h 1m', '2h 17m', '2h 9m', '2h', '1h 47m', '1h 54m', '2h 44m', '1h 20m', '2h 50m', '1h 38m', '2h 3m', '2h 2m', '2h 1m', '2h 23m', '1h 29m', '1h 42m', '1h 55m', '2h 28m', '1h 33m', '2h 25m', '1h 39m', '1h 52m', '1h 41m', '2h 9m', '2h 1m', '2h 52m', '2h 34m', '2h 10m', '2h 7m', '1h 26m', '2h 26m', '1h 45m', '1h 39m', '2h 43m', '1h 30m'], 'certificate': ['R', 'R', 'R', 'R', 'R', 'R', 'R', 'R', 'R', 'R', 'R', 'R', 'R', 'R', 'R', 'R', 'R', 'R', 'R', 'R', 'R', 'R', 'R', 'R', 'R', 'R', 'R', 'R', 'R', 'R', 'R', 'R', 'R', 'R', 'R', 'R', 'R', 'R', 'R', 'R', 'R', 'R', 'R', 'R', 'R', 'R', 'R', 'R', 'R', 'R', 'R', 'R', 'R', 'R', 'R', 'R', 'R', 'R', 'R', 'R', 'R', 'R', 'R', 'R', 'R', 'R', 'R', 'R', 'R', 'R', 'R', 'R', 'R', 'R', 'R', 'R', 'R', 'R', 'R', 'R', 'R', 'R', 'R', 'R', 'R', 'R', 'R', 'R', 'R', 'R', 'R', 'R', 'R', 'R', 'R', 'R', 'R', 'R', 'R', 'R', 'R', 'R', 'R', 'R', 'R', 'R', 'R', 'R', 'R', 'R', 'R', 'R', 'R', 'R', 'R', 'R', 'R', 'R', 'R', 'R', 'R', 'R', 'R', 'R', 'R', 'R', 'R', 'R', 'R', 'R', 'R', 'R', 'R', 'R', 'R', 'R', 'R', 'R', 'R', 'R', 'R', 'R', 'R', 'R', 'R', 'R', 'R', 'R', 'R', 'R', 'R', 'R', 'R', 'R', 'R', 'R', 'R', 'R', 'R', 'R', 'R', 'R', 'R', 'R', 'R', 'R', 'R', 'R', 'R', 'R', 'R', 'R', 'R', 'R', 'R', 'R', 'R', 'R', 'R', 'R', 'R', 'R', 'R', 'R', 'R', 'R', 'R', 'R', 'R', 'R', 'R', 'R', 'R', 'R', 'R', 'R', 'R', 'R', 'R', 'R', 'R', 'R', 'R', 'R', 'R', 'R', 'R', 'R', 'R', 'R', 'R', 'R', 'R', 'R', 'R', 'R', 'R', 'R', 'R', 'R', 'R', 'R', 'R', 'R', 'R', 'R', 'R', 'R', 'R', 'R', 'R', 'R', 'R', 'R', 'R', 'R', 'R', 'R', 'R', 'R', 'R', 'R', 'R', 'R', 'R', 'R', 'R', 'R', 'R', 'R'], 'rating': ['9.3', '9.2', '9.0', '9.0', '9.0', '9.0', '9.0', '8.9', '8.9', '8.8', '8.8', '8.8', '8.8', '8.8', '8.7', '8.7', '8.7', '8.7', '8.6', '8.6', '8.7', '8.6', '8.6', '8.6', '8.6', '8.6', '8.6', '8.6', '8.6', '8.5', '8.6', '8.6', '8.5', '8.5', '8.5', '8.5', '8.5', '8.5', '8.5', '8.5', '8.5', '8.5', '8.5', '8.6', '8.5', '8.5', '8.5', '8.5', '8.5', ' (94K)', '8.5', '8.5', '8.5', '8.5', '8.4', '8.5', '8.4', '8.4', '8.4', '8.4', '8.4', '8.4', '8.4', '8.4', '8.4', '8.4', '8.4', '8.4', '8.4', '8.4', '8.3', '8.4', '8.3', '8.4', '8.4', '8.3', ' (262K)', '8.3', '8.4', '8.4', '8.4', '8.3', '8.3', '8.4', '8.3', '8.4', '8.4', '8.3', '8.4', '8.3', '8.4', '8.3', '8.3', '8.3', '8.3', '8.3', '8.4', '8.3', '8.3', '8.3', '8.3', '8.3', '8.3', '8.3', '8.3', '8.3', '8.3', '8.3', '8.3', '8.3', '8.3', '8.3', '8.3', '8.3', '8.3', '8.3', '8.2', '8.2', '8.3', '8.3', '8.3', '8.2', '8.3', '8.2', '8.2', '8.2', '8.2', '8.3', '8.2', '8.2', '8.2', '8.2', '8.2', '8.2', '8.2', '8.3', '8.2', '8.3', '8.2', '8.2', '8.2', '8.2', '8.2', '8.2', '8.2', '8.2', '8.2', '8.2', '8.2', '8.2', '8.2', '8.2', '8.2', '8.2', '8.2', '8.2', '8.2', '8.2', '8.2', '8.1', '8.1', '8.2', '8.2', '8.2', '8.1', '8.2', '8.1', '8.1', '8.1', '8.1', '8.1', '8.2', '8.1', '8.3', '8.1', '8.2', '8.1', '8.1', '8.1', '8.1', '8.1', '8.2', '8.1', '8.1', '8.1', '8.1', '8.1', '8.1', '8.1', '8.1', '8.1', '8.1', '8.1', '8.1', '8.1', '8.1', '8.1', '8.1', '8.1', '8.1', '8.2', '8.1', '8.2', '8.1', '8.1', '8.1', '8.1', '8.1', '8.1', '8.1', '8.1', '8.1', '8.1', '8.1', '8.1', '8.1', '8.1', '8.1', '8.1', '8.1', '8.1', '8.7', '8.1', '8.1', '8.1', '8.1', '8.1', '8.1', '8.1', '8.1', '8.1', '8.0', '8.1', '8.1', '8.1', '8.1', '8.2', '8.0', '8.1', '8.1', '8.1', '8.1', '8.1', '8.1', '8.1', '8.1', '8.1', '8.1', '8.2', '8.0'], 'raters': [' (2.9M)', ' (2M)', ' (2.8M)', ' (1.3M)', ' (853K)', ' (1.4M)', ' (2M)', ' (2.2M)', ' (2M)', ' (803K)', ' (2.2M)', ' (2.3M)', ' (1.8M)', ' (2.5M)', ' (1.4M)', ' (2M)', ' (1.2M)', ' (1.1M)', ' (1.8M)', ' (495K)', ' (2.1M)', ' (363K)', ' (1.5M)', ' (1.5M)', ' (794K)', ' (736K)', ' (1.4M)', ' (1.2M)', ' (1.4M)', ' (1.3M)', ' (343K)', ' (835K)', ' (900K)', ' (933K)', ' (712K)', ' (1.6M)', ' (1.1M)', ' (1.2M)', ' (1.4M)', ' (1.2M)', ' (968K)', ' (1.4M)', ' (305K)', ' (67K)', ' (1.1M)', ' (601K)', ' (918K)', ' (257K)', ' (280K)', 'Rate', ' (517K)', ' (346K)', ' (939K)', ' (194K)', ' (703K)', ' (1.7M)', ' (1.3M)', ' (1.2M)', ' (1M)', ' (407K)', ' (234K)', ' (210K)', ' (1.2M)', ' (657K)', ' (1.1M)', ' (136K)', ' (235K)', ' (756K)', ' (1.6M)', ' (1.8M)', ' (1.2M)', ' (514K)', ' (627K)', ' (578K)', ' (424K)', ' (1.1M)', 'Rate', ' (1.1M)', ' (1.2M)', ' (1.5M)', ' (626K)', ' (427K)', ' (1.1M)', ' (312K)', ' (374K)', ' (429K)', ' (52K)', ' (258K)', ' (103K)', ' (890K)', ' (94K)', ' (884K)', ' (1.1M)', ' (1.1M)', ' (359K)', ' (712K)', ' (72K)', ' (1.1M)', ' (86K)', ' (311K)', ' (194K)', ' (462K)', ' (343K)', ' (167K)', ' (423K)', ' (166K)', ' (905K)', ' (789K)', ' (195K)', ' (783K)', ' (874K)', ' (711K)', ' (1.1M)', ' (330K)', ' (277K)', ' (256K)', ' (805K)', ' (937K)', ' (111K)', ' (184K)', ' (205K)', ' (901K)', ' (173K)', ' (612K)', ' (663K)', ' (908K)', ' (372K)', ' (208K)', ' (272K)', ' (1.6M)', ' (281K)', ' (1.6M)', ' (134K)', ' (555K)', ' (187K)', ' (672K)', ' (138K)', ' (84K)', ' (1.2M)', ' (634K)', ' (1.4M)', ' (558K)', ' (135K)', ' (1.1M)', ' (1M)', ' (698K)', ' (432K)', ' (978K)', ' (1M)', ' (131K)', ' (130K)', ' (461K)', ' (1.2M)', ' (566K)', ' (257K)', ' (1.1M)', ' (179K)', ' (256K)', ' (440K)', ' (346K)', ' (795K)', ' (187K)', ' (331K)', ' (1.2M)', ' (611K)', ' (221K)', ' (376K)', ' (774K)', ' (548K)', ' (720K)', ' (232K)', ' (862K)', ' (719K)', ' (43K)', ' (494K)', ' (186K)', ' (1.1M)', ' (809K)', ' (373K)', ' (716K)', ' (938K)', ' (80K)', ' (735K)', ' (815K)', ' (335K)', ' (877K)', ' (251K)', ' (181K)', ' (1.1M)', ' (118K)', ' (584K)', ' (185K)', ' (211K)', ' (163K)', ' (97K)', ' (359K)', ' (537K)', ' (214K)', ' (1.1M)', ' (114K)', ' (56K)', ' (180K)', ' (66K)', ' (968K)', ' (653K)', ' (791K)', ' (121K)', ' (185K)', ' (456K)', ' (811K)', ' (196K)', ' (446K)', ' (853K)', ' (68K)', ' (622K)', ' (370K)', ' (820K)', ' (498K)', ' (435K)', ' (915K)', ' (60K)', ' (215K)', ' (285K)', ' (70K)', ' (193K)', ' (508K)', ' (450K)', ' (169K)', ' (1.2M)', ' (436K)', ' (425K)', ' (798K)', ' (653K)', ' (308K)', ' (169K)', ' (42K)', ' (92K)', ' (677K)', ' (99K)', ' (65K)', ' (258K)', ' (251K)', ' (145K)', ' (187K)', ' (223K)', ' (488K)', ' (111K)', ' (127K)', ' (93K)', ' (460K)']}\n"
     ]
    }
   ],
   "source": [
    "print(imdbmovies)"
   ]
  },
  {
   "cell_type": "code",
   "execution_count": 11,
   "id": "26262b8b",
   "metadata": {
    "collapsed": true
   },
   "outputs": [
    {
     "data": {
      "text/html": [
       "<div>\n",
       "<style scoped>\n",
       "    .dataframe tbody tr th:only-of-type {\n",
       "        vertical-align: middle;\n",
       "    }\n",
       "\n",
       "    .dataframe tbody tr th {\n",
       "        vertical-align: top;\n",
       "    }\n",
       "\n",
       "    .dataframe thead th {\n",
       "        text-align: right;\n",
       "    }\n",
       "</style>\n",
       "<table border=\"1\" class=\"dataframe\">\n",
       "  <thead>\n",
       "    <tr style=\"text-align: right;\">\n",
       "      <th></th>\n",
       "      <th>name</th>\n",
       "      <th>year</th>\n",
       "      <th>runtime</th>\n",
       "      <th>certificate</th>\n",
       "      <th>rating</th>\n",
       "      <th>raters</th>\n",
       "    </tr>\n",
       "  </thead>\n",
       "  <tbody>\n",
       "    <tr>\n",
       "      <th>0</th>\n",
       "      <td>1. The Shawshank Redemption</td>\n",
       "      <td>1994</td>\n",
       "      <td>2h 22m</td>\n",
       "      <td>R</td>\n",
       "      <td>9.3</td>\n",
       "      <td>(2.9M)</td>\n",
       "    </tr>\n",
       "    <tr>\n",
       "      <th>1</th>\n",
       "      <td>2. The Godfather</td>\n",
       "      <td>1972</td>\n",
       "      <td>2h 55m</td>\n",
       "      <td>R</td>\n",
       "      <td>9.2</td>\n",
       "      <td>(2M)</td>\n",
       "    </tr>\n",
       "    <tr>\n",
       "      <th>2</th>\n",
       "      <td>3. The Dark Knight</td>\n",
       "      <td>2008</td>\n",
       "      <td>2h 32m</td>\n",
       "      <td>R</td>\n",
       "      <td>9.0</td>\n",
       "      <td>(2.8M)</td>\n",
       "    </tr>\n",
       "    <tr>\n",
       "      <th>3</th>\n",
       "      <td>4. The Godfather Part II</td>\n",
       "      <td>1974</td>\n",
       "      <td>3h 22m</td>\n",
       "      <td>R</td>\n",
       "      <td>9.0</td>\n",
       "      <td>(1.3M)</td>\n",
       "    </tr>\n",
       "    <tr>\n",
       "      <th>4</th>\n",
       "      <td>5. 12 Angry Men</td>\n",
       "      <td>1957</td>\n",
       "      <td>1h 36m</td>\n",
       "      <td>R</td>\n",
       "      <td>9.0</td>\n",
       "      <td>(853K)</td>\n",
       "    </tr>\n",
       "    <tr>\n",
       "      <th>...</th>\n",
       "      <td>...</td>\n",
       "      <td>...</td>\n",
       "      <td>...</td>\n",
       "      <td>...</td>\n",
       "      <td>...</td>\n",
       "      <td>...</td>\n",
       "    </tr>\n",
       "    <tr>\n",
       "      <th>245</th>\n",
       "      <td>246. The Help</td>\n",
       "      <td>2011</td>\n",
       "      <td>2h 26m</td>\n",
       "      <td>R</td>\n",
       "      <td>8.1</td>\n",
       "      <td>(488K)</td>\n",
       "    </tr>\n",
       "    <tr>\n",
       "      <th>246</th>\n",
       "      <td>247. It Happened One Night</td>\n",
       "      <td>1934</td>\n",
       "      <td>1h 45m</td>\n",
       "      <td>R</td>\n",
       "      <td>8.1</td>\n",
       "      <td>(111K)</td>\n",
       "    </tr>\n",
       "    <tr>\n",
       "      <th>247</th>\n",
       "      <td>248. The 400 Blows</td>\n",
       "      <td>1959</td>\n",
       "      <td>1h 39m</td>\n",
       "      <td>R</td>\n",
       "      <td>8.1</td>\n",
       "      <td>(127K)</td>\n",
       "    </tr>\n",
       "    <tr>\n",
       "      <th>248</th>\n",
       "      <td>249. Drishyam</td>\n",
       "      <td>2015</td>\n",
       "      <td>2h 43m</td>\n",
       "      <td>R</td>\n",
       "      <td>8.2</td>\n",
       "      <td>(93K)</td>\n",
       "    </tr>\n",
       "    <tr>\n",
       "      <th>249</th>\n",
       "      <td>250. Aladdin</td>\n",
       "      <td>1992</td>\n",
       "      <td>1h 30m</td>\n",
       "      <td>R</td>\n",
       "      <td>8.0</td>\n",
       "      <td>(460K)</td>\n",
       "    </tr>\n",
       "  </tbody>\n",
       "</table>\n",
       "<p>250 rows × 6 columns</p>\n",
       "</div>"
      ],
      "text/plain": [
       "                            name  year runtime certificate rating   raters\n",
       "0    1. The Shawshank Redemption  1994  2h 22m           R    9.3   (2.9M)\n",
       "1               2. The Godfather  1972  2h 55m           R    9.2     (2M)\n",
       "2             3. The Dark Knight  2008  2h 32m           R    9.0   (2.8M)\n",
       "3       4. The Godfather Part II  1974  3h 22m           R    9.0   (1.3M)\n",
       "4                5. 12 Angry Men  1957  1h 36m           R    9.0   (853K)\n",
       "..                           ...   ...     ...         ...    ...      ...\n",
       "245                246. The Help  2011  2h 26m           R    8.1   (488K)\n",
       "246   247. It Happened One Night  1934  1h 45m           R    8.1   (111K)\n",
       "247           248. The 400 Blows  1959  1h 39m           R    8.1   (127K)\n",
       "248                249. Drishyam  2015  2h 43m           R    8.2    (93K)\n",
       "249                 250. Aladdin  1992  1h 30m           R    8.0   (460K)\n",
       "\n",
       "[250 rows x 6 columns]"
      ]
     },
     "execution_count": 11,
     "metadata": {},
     "output_type": "execute_result"
    }
   ],
   "source": [
    "import pandas as pd\n",
    "\n",
    "pd.DataFrame(data=imdbmovies)"
   ]
  },
  {
   "cell_type": "code",
   "execution_count": null,
   "id": "d9967278",
   "metadata": {},
   "outputs": [],
   "source": []
  }
 ],
 "metadata": {
  "kernelspec": {
   "display_name": "Python 3 (ipykernel)",
   "language": "python",
   "name": "python3"
  },
  "language_info": {
   "codemirror_mode": {
    "name": "ipython",
    "version": 3
   },
   "file_extension": ".py",
   "mimetype": "text/x-python",
   "name": "python",
   "nbconvert_exporter": "python",
   "pygments_lexer": "ipython3",
   "version": "3.11.5"
  }
 },
 "nbformat": 4,
 "nbformat_minor": 5
}
